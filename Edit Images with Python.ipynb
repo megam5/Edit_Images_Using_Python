{
 "cells": [
  {
   "cell_type": "code",
   "execution_count": 4,
   "metadata": {},
   "outputs": [],
   "source": [
    "# we will edit images using Python's Pillow library\n",
    "# Pillow library is not the part of Python's standard library\n",
    "# so first we will install it\n",
    "# to install Pillow library type following in command line\n",
    "# pip install Pillow "
   ]
  },
  {
   "cell_type": "code",
   "execution_count": 6,
   "metadata": {},
   "outputs": [],
   "source": [
    "# import image module from Pillow package\n",
    "from PIL import Image"
   ]
  },
  {
   "cell_type": "code",
   "execution_count": 9,
   "metadata": {},
   "outputs": [],
   "source": [
    "# CHANGE IMAGE EXTENSION\n",
    "\n",
    "# open file with image's path\n",
    "img1 = Image.open('Joker 1.jpg') "
   ]
  },
  {
   "cell_type": "code",
   "execution_count": 12,
   "metadata": {},
   "outputs": [],
   "source": [
    "# save image with changed extension that is\n",
    "# save img1 with png extension\n",
    "# img1.save('Joker 1.png') "
   ]
  },
  {
   "cell_type": "code",
   "execution_count": 13,
   "metadata": {},
   "outputs": [],
   "source": [
    "# if you don't want to save\n",
    "# and just want to show the image\n",
    "img1.show() "
   ]
  },
  {
   "cell_type": "code",
   "execution_count": null,
   "metadata": {},
   "outputs": [],
   "source": []
  },
  {
   "cell_type": "code",
   "execution_count": 14,
   "metadata": {},
   "outputs": [],
   "source": [
    "# CHANGE IMAGE SIZE\n",
    "\n",
    "# create a tuple of desired size of image\n",
    "MAX_SIZE = (250,250)\n",
    "\n",
    "# pass MAX_SIZE in thumbnail method\n",
    "img1.thumbnail(MAX_SIZE)\n",
    "\n",
    "# save the image\n",
    "img1.save('Joker 1 (thumb).jpg') "
   ]
  },
  {
   "cell_type": "code",
   "execution_count": 15,
   "metadata": {},
   "outputs": [],
   "source": [
    "# EDIT MULTIPLE IMAGES\n",
    "\n",
    "# import os module\n",
    "import os\n",
    "\n",
    "# convert all .jpg files to .png files\n",
    "for item in os.listdir():\n",
    "    # if items ends with .jpg extension\n",
    "    if item.endswith('.jpg'):\n",
    "        # create an object\n",
    "        img1 = Image.open(item)\n",
    "        # store file name and extension in separate variables\n",
    "        file_name, extension = os.path.splitext(item)\n",
    "        # save images with png extension\n",
    "        img1.save(f'{file_name}.png') "
   ]
  },
  {
   "cell_type": "code",
   "execution_count": null,
   "metadata": {},
   "outputs": [],
   "source": []
  }
 ],
 "metadata": {
  "kernelspec": {
   "display_name": "Python 3",
   "language": "python",
   "name": "python3"
  },
  "language_info": {
   "codemirror_mode": {
    "name": "ipython",
    "version": 3
   },
   "file_extension": ".py",
   "mimetype": "text/x-python",
   "name": "python",
   "nbconvert_exporter": "python",
   "pygments_lexer": "ipython3",
   "version": "3.7.3"
  }
 },
 "nbformat": 4,
 "nbformat_minor": 2
}
